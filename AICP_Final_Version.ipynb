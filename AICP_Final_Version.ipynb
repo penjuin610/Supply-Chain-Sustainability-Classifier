{
  "nbformat": 4,
  "nbformat_minor": 0,
  "metadata": {
    "colab": {
      "provenance": [],
      "gpuType": "T4",
      "mount_file_id": "1AY_UFuJOyOLYA-WNeFEL0AzoLcMPf0A6",
      "authorship_tag": "ABX9TyNFSD4tvCpp4ut9xJMtpi0s",
      "include_colab_link": true
    },
    "kernelspec": {
      "name": "python3",
      "display_name": "Python 3"
    },
    "language_info": {
      "name": "python"
    }
  },
  "cells": [
    {
      "cell_type": "markdown",
      "metadata": {
        "id": "view-in-github",
        "colab_type": "text"
      },
      "source": [
        "<a href=\"https://colab.research.google.com/github/penjuin610/Supply-Chain-Sustainability-Classifier/blob/main/AICP_Final_Version.ipynb\" target=\"_parent\"><img src=\"https://colab.research.google.com/assets/colab-badge.svg\" alt=\"Open In Colab\"/></a>"
      ]
    },
    {
      "cell_type": "markdown",
      "source": [
        "# Step1 - Text extracting"
      ],
      "metadata": {
        "id": "0YDZvl6OwpEs"
      }
    },
    {
      "cell_type": "code",
      "execution_count": 3,
      "metadata": {
        "colab": {
          "base_uri": "https://localhost:8080/"
        },
        "id": "IQ-6vn_rupTr",
        "outputId": "5025e127-1c39-4b00-d047-dc059cbae9e3"
      },
      "outputs": [
        {
          "output_type": "stream",
          "name": "stdout",
          "text": [
            "Requirement already satisfied: PyPDF2 in /usr/local/lib/python3.10/dist-packages (3.0.1)\n",
            "Requirement already satisfied: pandas in /usr/local/lib/python3.10/dist-packages (1.5.3)\n",
            "Requirement already satisfied: python-dateutil>=2.8.1 in /usr/local/lib/python3.10/dist-packages (from pandas) (2.8.2)\n",
            "Requirement already satisfied: pytz>=2020.1 in /usr/local/lib/python3.10/dist-packages (from pandas) (2023.4)\n",
            "Requirement already satisfied: numpy>=1.21.0 in /usr/local/lib/python3.10/dist-packages (from pandas) (1.25.2)\n",
            "Requirement already satisfied: six>=1.5 in /usr/local/lib/python3.10/dist-packages (from python-dateutil>=2.8.1->pandas) (1.16.0)\n"
          ]
        }
      ],
      "source": [
        "pip install PyPDF2 pandas"
      ]
    },
    {
      "cell_type": "code",
      "source": [
        "import os\n",
        "import PyPDF2\n",
        "import pandas as pd\n",
        "\n",
        "def check_encryption_and_extract_text(pdf_path):\n",
        "    \"\"\"检查PDF是否加密并尝试提取文本\"\"\"\n",
        "    try:\n",
        "        with open(pdf_path, 'rb') as file:\n",
        "            reader = PyPDF2.PdfReader(file)\n",
        "            if reader.is_encrypted:\n",
        "                return None  # 如果文件加密，返回None\n",
        "            else:\n",
        "                return ' '.join([page.extract_text() for page in reader.pages])\n",
        "    except Exception as e:\n",
        "        print(f\"Error processing file '{pdf_path}': {str(e)}\")\n",
        "        return None\n",
        "\n",
        "def process_pdfs_in_folder(folder_path):\n",
        "    \"\"\"处理文件夹中的PDF文件\"\"\"\n",
        "    extracted_texts = []\n",
        "    encrypted_files = []\n",
        "    for filename in os.listdir(folder_path):\n",
        "        try:\n",
        "            if filename.endswith('.pdf'):\n",
        "                pdf_path = os.path.join(folder_path, filename)\n",
        "                text = check_encryption_and_extract_text(pdf_path)\n",
        "                if text is not None:\n",
        "                    extracted_texts.append({'filename': filename, 'text': text})\n",
        "                else:\n",
        "                    encrypted_files.append(filename)\n",
        "        except Exception as e:\n",
        "            print(f\"Error processing file '{filename}': {str(e)}\")\n",
        "    return extracted_texts, encrypted_files\n",
        "\n",
        "# 更新文件夹路径\n",
        "folder_path = '/content/drive/MyDrive/Modeltesting'\n",
        "# 处理PDF文件\n",
        "extracted_texts, encrypted_files = process_pdfs_in_folder(folder_path)\n",
        "\n",
        "# 保存提取的文本和加密文件列表到指定的CSV文件\n",
        "output_folder_path = '/content/drive/MyDrive/good and bad'\n",
        "\n",
        "# 将提取的文本保存到CSV文件\n",
        "df_texts = pd.DataFrame(extracted_texts)\n",
        "df_texts.to_csv(f'{output_folder_path}/extracted_texts.csv', index=False)\n",
        "\n",
        "# 将加密文件列表保存到CSV文件\n",
        "df_encrypted = pd.DataFrame(encrypted_files)\n",
        "df_encrypted.to_csv(f'{output_folder_path}/encrypted_files.csv', index=False)\n"
      ],
      "metadata": {
        "colab": {
          "base_uri": "https://localhost:8080/"
        },
        "id": "Vgv_6Wn5uxvo",
        "outputId": "2ec69b5e-f775-4329-c151-647cefad5dca"
      },
      "execution_count": 2,
      "outputs": [
        {
          "output_type": "stream",
          "name": "stderr",
          "text": [
            "WARNING:PyPDF2._cmap:unknown widths : \n",
            "[0, IndirectObject(221, 0, 138698463242336)]\n",
            "WARNING:PyPDF2._cmap:unknown widths : \n",
            "[0, IndirectObject(224, 0, 138698463242336)]\n",
            "WARNING:PyPDF2._cmap:unknown widths : \n",
            "[0, IndirectObject(227, 0, 138698463242336)]\n",
            "WARNING:PyPDF2._cmap:unknown widths : \n",
            "[0, IndirectObject(230, 0, 138698463242336)]\n",
            "WARNING:PyPDF2._cmap:unknown widths : \n",
            "[0, IndirectObject(233, 0, 138698463242336)]\n",
            "WARNING:PyPDF2._cmap:unknown widths : \n",
            "[0, IndirectObject(236, 0, 138698463242336)]\n",
            "WARNING:PyPDF2._cmap:unknown widths : \n",
            "[0, IndirectObject(239, 0, 138698463242336)]\n",
            "WARNING:PyPDF2._cmap:unknown widths : \n",
            "[0, IndirectObject(242, 0, 138698463242336)]\n",
            "WARNING:PyPDF2._cmap:unknown widths : \n",
            "[0, IndirectObject(245, 0, 138698463242336)]\n",
            "WARNING:PyPDF2._cmap:unknown widths : \n",
            "[0, IndirectObject(248, 0, 138698463242336)]\n",
            "WARNING:PyPDF2._cmap:unknown widths : \n",
            "[0, IndirectObject(251, 0, 138698463242336)]\n",
            "WARNING:PyPDF2._cmap:unknown widths : \n",
            "[0, IndirectObject(254, 0, 138698463242336)]\n",
            "WARNING:PyPDF2._cmap:unknown widths : \n",
            "[0, IndirectObject(257, 0, 138698463242336)]\n",
            "WARNING:PyPDF2._cmap:unknown widths : \n",
            "[0, IndirectObject(260, 0, 138698463242336)]\n",
            "WARNING:PyPDF2._cmap:unknown widths : \n",
            "[0, IndirectObject(263, 0, 138698463242336)]\n",
            "WARNING:PyPDF2._cmap:unknown widths : \n",
            "[0, IndirectObject(266, 0, 138698463242336)]\n",
            "WARNING:PyPDF2._cmap:unknown widths : \n",
            "[0, IndirectObject(269, 0, 138698463242336)]\n",
            "WARNING:PyPDF2._cmap:unknown widths : \n",
            "[0, IndirectObject(272, 0, 138698463242336)]\n",
            "WARNING:PyPDF2._cmap:unknown widths : \n",
            "[0, IndirectObject(275, 0, 138698463242336)]\n",
            "WARNING:PyPDF2._cmap:unknown widths : \n",
            "[0, IndirectObject(278, 0, 138698463242336)]\n",
            "WARNING:PyPDF2._cmap:unknown widths : \n",
            "[0, IndirectObject(281, 0, 138698463242336)]\n",
            "WARNING:PyPDF2._cmap:unknown widths : \n",
            "[0, IndirectObject(284, 0, 138698463242336)]\n",
            "WARNING:PyPDF2._cmap:unknown widths : \n",
            "[0, IndirectObject(287, 0, 138698463242336)]\n",
            "WARNING:PyPDF2._cmap:unknown widths : \n",
            "[0, IndirectObject(290, 0, 138698463242336)]\n",
            "WARNING:PyPDF2._cmap:unknown widths : \n",
            "[0, IndirectObject(293, 0, 138698463242336)]\n",
            "WARNING:PyPDF2._cmap:unknown widths : \n",
            "[0, IndirectObject(296, 0, 138698463242336)]\n",
            "WARNING:PyPDF2._cmap:unknown widths : \n",
            "[0, IndirectObject(299, 0, 138698463242336)]\n",
            "WARNING:PyPDF2._cmap:unknown widths : \n",
            "[0, IndirectObject(302, 0, 138698463242336)]\n",
            "WARNING:PyPDF2._cmap:unknown widths : \n",
            "[0, IndirectObject(305, 0, 138698463242336)]\n",
            "WARNING:PyPDF2._cmap:unknown widths : \n",
            "[0, IndirectObject(308, 0, 138698463242336)]\n",
            "WARNING:PyPDF2._cmap:unknown widths : \n",
            "[0, IndirectObject(311, 0, 138698463242336)]\n",
            "WARNING:PyPDF2._cmap:unknown widths : \n",
            "[0, IndirectObject(314, 0, 138698463242336)]\n",
            "WARNING:PyPDF2._cmap:unknown widths : \n",
            "[0, IndirectObject(317, 0, 138698463242336)]\n",
            "WARNING:PyPDF2._cmap:unknown widths : \n",
            "[0, IndirectObject(320, 0, 138698463242336)]\n",
            "WARNING:PyPDF2._cmap:unknown widths : \n",
            "[0, IndirectObject(323, 0, 138698463242336)]\n",
            "WARNING:PyPDF2._cmap:unknown widths : \n",
            "[0, IndirectObject(326, 0, 138698463242336)]\n",
            "WARNING:PyPDF2._cmap:unknown widths : \n",
            "[0, IndirectObject(329, 0, 138698463242336)]\n",
            "WARNING:PyPDF2._cmap:unknown widths : \n",
            "[0, IndirectObject(332, 0, 138698463242336)]\n",
            "WARNING:PyPDF2._cmap:unknown widths : \n",
            "[0, IndirectObject(335, 0, 138698463242336)]\n",
            "WARNING:PyPDF2._cmap:unknown widths : \n",
            "[0, IndirectObject(338, 0, 138698463242336)]\n",
            "WARNING:PyPDF2._cmap:unknown widths : \n",
            "[0, IndirectObject(341, 0, 138698463242336)]\n",
            "WARNING:PyPDF2._cmap:unknown widths : \n",
            "[0, IndirectObject(346, 0, 138698463242336)]\n",
            "WARNING:PyPDF2._cmap:unknown widths : \n",
            "[0, IndirectObject(349, 0, 138698463242336)]\n",
            "WARNING:PyPDF2._cmap:unknown widths : \n",
            "[0, IndirectObject(352, 0, 138698463242336)]\n",
            "WARNING:PyPDF2._cmap:unknown widths : \n",
            "[0, IndirectObject(355, 0, 138698463242336)]\n",
            "WARNING:PyPDF2._cmap:unknown widths : \n",
            "[0, IndirectObject(358, 0, 138698463242336)]\n",
            "WARNING:PyPDF2._cmap:unknown widths : \n",
            "[0, IndirectObject(361, 0, 138698463242336)]\n",
            "WARNING:PyPDF2._cmap:unknown widths : \n",
            "[0, IndirectObject(364, 0, 138698463242336)]\n",
            "WARNING:PyPDF2._cmap:unknown widths : \n",
            "[0, IndirectObject(367, 0, 138698463242336)]\n",
            "WARNING:PyPDF2._cmap:unknown widths : \n",
            "[0, IndirectObject(370, 0, 138698463242336)]\n",
            "WARNING:PyPDF2._cmap:unknown widths : \n",
            "[0, IndirectObject(373, 0, 138698463242336)]\n",
            "WARNING:PyPDF2._cmap:unknown widths : \n",
            "[0, IndirectObject(376, 0, 138698463242336)]\n",
            "WARNING:PyPDF2._cmap:unknown widths : \n",
            "[0, IndirectObject(379, 0, 138698463242336)]\n",
            "WARNING:PyPDF2._cmap:unknown widths : \n",
            "[0, IndirectObject(382, 0, 138698463242336)]\n",
            "WARNING:PyPDF2._reader:incorrect startxref pointer(3)\n",
            "WARNING:PyPDF2._reader:incorrect startxref pointer(3)\n",
            "WARNING:PyPDF2._reader:incorrect startxref pointer(3)\n",
            "WARNING:PyPDF2._reader:incorrect startxref pointer(3)\n",
            "WARNING:PyPDF2._reader:incorrect startxref pointer(3)\n"
          ]
        },
        {
          "output_type": "stream",
          "name": "stdout",
          "text": [
            "Error processing file '/content/drive/MyDrive/Modeltesting/amendment-1---bid-extension-en.pdf': EOF marker not found\n"
          ]
        }
      ]
    },
    {
      "cell_type": "markdown",
      "source": [
        "### Step 2 - Text Preprocessing: Cleaning and Preparing Text Data"
      ],
      "metadata": {
        "id": "jRhgK874wtgI"
      }
    },
    {
      "cell_type": "code",
      "source": [
        "pip install nltk pandas"
      ],
      "metadata": {
        "colab": {
          "base_uri": "https://localhost:8080/"
        },
        "id": "zoIP1zKFwjnW",
        "outputId": "0859b826-f1f5-4b9e-ded5-d787b4f18af4"
      },
      "execution_count": 4,
      "outputs": [
        {
          "output_type": "stream",
          "name": "stdout",
          "text": [
            "Requirement already satisfied: nltk in /usr/local/lib/python3.10/dist-packages (3.8.1)\n",
            "Requirement already satisfied: pandas in /usr/local/lib/python3.10/dist-packages (1.5.3)\n",
            "Requirement already satisfied: click in /usr/local/lib/python3.10/dist-packages (from nltk) (8.1.7)\n",
            "Requirement already satisfied: joblib in /usr/local/lib/python3.10/dist-packages (from nltk) (1.3.2)\n",
            "Requirement already satisfied: regex>=2021.8.3 in /usr/local/lib/python3.10/dist-packages (from nltk) (2023.12.25)\n",
            "Requirement already satisfied: tqdm in /usr/local/lib/python3.10/dist-packages (from nltk) (4.66.2)\n",
            "Requirement already satisfied: python-dateutil>=2.8.1 in /usr/local/lib/python3.10/dist-packages (from pandas) (2.8.2)\n",
            "Requirement already satisfied: pytz>=2020.1 in /usr/local/lib/python3.10/dist-packages (from pandas) (2023.4)\n",
            "Requirement already satisfied: numpy>=1.21.0 in /usr/local/lib/python3.10/dist-packages (from pandas) (1.25.2)\n",
            "Requirement already satisfied: six>=1.5 in /usr/local/lib/python3.10/dist-packages (from python-dateutil>=2.8.1->pandas) (1.16.0)\n"
          ]
        }
      ]
    },
    {
      "cell_type": "code",
      "source": [
        "import nltk\n",
        "import ssl\n",
        "\n",
        "try:\n",
        "    _create_unverified_https_context = ssl._create_unverified_context\n",
        "except AttributeError:\n",
        "    pass\n",
        "else:\n",
        "    ssl._create_default_https_context = _create_unverified_https_context\n",
        "\n",
        "nltk.download('stopwords')\n",
        "nltk.download('punkt')\n",
        "nltk.download('wordnet')\n"
      ],
      "metadata": {
        "colab": {
          "base_uri": "https://localhost:8080/"
        },
        "id": "GwDp_ODpw2d1",
        "outputId": "dcaac92d-7dd3-42fb-c0aa-1b0ccadddded"
      },
      "execution_count": 5,
      "outputs": [
        {
          "output_type": "stream",
          "name": "stderr",
          "text": [
            "[nltk_data] Downloading package stopwords to /root/nltk_data...\n",
            "[nltk_data]   Unzipping corpora/stopwords.zip.\n",
            "[nltk_data] Downloading package punkt to /root/nltk_data...\n",
            "[nltk_data]   Unzipping tokenizers/punkt.zip.\n",
            "[nltk_data] Downloading package wordnet to /root/nltk_data...\n"
          ]
        },
        {
          "output_type": "execute_result",
          "data": {
            "text/plain": [
              "True"
            ]
          },
          "metadata": {},
          "execution_count": 5
        }
      ]
    },
    {
      "cell_type": "code",
      "source": [
        "import pandas as pd\n",
        "import nltk\n",
        "from nltk.corpus import stopwords\n",
        "from nltk.tokenize import word_tokenize\n",
        "from nltk.stem import WordNetLemmatizer\n",
        "import string\n",
        "import re\n",
        "\n",
        "# 如果尚未下载NLTK的数据包，请先下载\n",
        "nltk.download('punkt')\n",
        "nltk.download('stopwords')\n",
        "nltk.download('wordnet')\n",
        "\n",
        "# 读取之前提取的文本内容\n",
        "df = pd.read_csv('/content/drive/MyDrive/good and bad/extracted_texts.csv')\n",
        "\n",
        "# 定义数据清洗函数\n",
        "def clean_text(text):\n",
        "    # 转换为小写\n",
        "    text = text.lower()\n",
        "    # 去除标点\n",
        "    text = text.translate(str.maketrans('', '', string.punctuation))\n",
        "    # 去除数字\n",
        "    text = re.sub(r'\\d+', '', text)\n",
        "    # 分词\n",
        "    tokens = word_tokenize(text)\n",
        "    # 去除停用词\n",
        "    stop_words = set(stopwords.words('english'))\n",
        "    tokens = [w for w in tokens if not w in stop_words]\n",
        "    # 词形还原\n",
        "    lemmatizer = WordNetLemmatizer()\n",
        "    tokens = [lemmatizer.lemmatize(w) for w in tokens]\n",
        "    # 重组为单一字符串\n",
        "    text = ' '.join(tokens)\n",
        "    return text\n",
        "\n",
        "# 应用数据清洗函数\n",
        "df['cleaned_text'] = df['text'].apply(clean_text)\n",
        "\n",
        "# 保存清洗后的数据到CSV文件\n",
        "df.to_csv('/content/drive/MyDrive/good and bad/cleaned_texts.csv', index=False)\n",
        "\n",
        "# 接下来，可以使用df['cleaned_text']列中的文本来进行特征工程\n"
      ],
      "metadata": {
        "colab": {
          "base_uri": "https://localhost:8080/"
        },
        "id": "JtJTfzT-w4w9",
        "outputId": "37688e8e-a4ae-4640-adcf-78fcb193e33e"
      },
      "execution_count": 6,
      "outputs": [
        {
          "output_type": "stream",
          "name": "stderr",
          "text": [
            "[nltk_data] Downloading package punkt to /root/nltk_data...\n",
            "[nltk_data]   Package punkt is already up-to-date!\n",
            "[nltk_data] Downloading package stopwords to /root/nltk_data...\n",
            "[nltk_data]   Package stopwords is already up-to-date!\n",
            "[nltk_data] Downloading package wordnet to /root/nltk_data...\n",
            "[nltk_data]   Package wordnet is already up-to-date!\n"
          ]
        }
      ]
    },
    {
      "cell_type": "markdown",
      "source": [
        "### Step 3 - Feature Engineering: Extracting Features with TF-IDF"
      ],
      "metadata": {
        "id": "zVrEPDkVw6go"
      }
    },
    {
      "cell_type": "code",
      "source": [
        "print(\"Total texts to process:\", len(df['cleaned_text']))\n"
      ],
      "metadata": {
        "colab": {
          "base_uri": "https://localhost:8080/"
        },
        "id": "kn_4Km4Uw7Yt",
        "outputId": "e75baf23-fa43-44cd-8222-15b7fb7b58e2"
      },
      "execution_count": 7,
      "outputs": [
        {
          "output_type": "stream",
          "name": "stdout",
          "text": [
            "Total texts to process: 119\n"
          ]
        }
      ]
    },
    {
      "cell_type": "code",
      "source": [
        "print(len(df['cleaned_text']))"
      ],
      "metadata": {
        "colab": {
          "base_uri": "https://localhost:8080/"
        },
        "id": "mZnIBd7pxQyq",
        "outputId": "e9bd859b-86f8-48d7-a33e-5ef423de5695"
      },
      "execution_count": 8,
      "outputs": [
        {
          "output_type": "stream",
          "name": "stdout",
          "text": [
            "119\n"
          ]
        }
      ]
    },
    {
      "cell_type": "code",
      "source": [
        "pip install gensim numpy nltk\n"
      ],
      "metadata": {
        "colab": {
          "base_uri": "https://localhost:8080/"
        },
        "id": "WsWx2b4lw940",
        "outputId": "108a90d1-2e56-4db3-ee0b-890d4dbf8d93"
      },
      "execution_count": 9,
      "outputs": [
        {
          "output_type": "stream",
          "name": "stdout",
          "text": [
            "Requirement already satisfied: gensim in /usr/local/lib/python3.10/dist-packages (4.3.2)\n",
            "Requirement already satisfied: numpy in /usr/local/lib/python3.10/dist-packages (1.25.2)\n",
            "Requirement already satisfied: nltk in /usr/local/lib/python3.10/dist-packages (3.8.1)\n",
            "Requirement already satisfied: scipy>=1.7.0 in /usr/local/lib/python3.10/dist-packages (from gensim) (1.11.4)\n",
            "Requirement already satisfied: smart-open>=1.8.1 in /usr/local/lib/python3.10/dist-packages (from gensim) (6.4.0)\n",
            "Requirement already satisfied: click in /usr/local/lib/python3.10/dist-packages (from nltk) (8.1.7)\n",
            "Requirement already satisfied: joblib in /usr/local/lib/python3.10/dist-packages (from nltk) (1.3.2)\n",
            "Requirement already satisfied: regex>=2021.8.3 in /usr/local/lib/python3.10/dist-packages (from nltk) (2023.12.25)\n",
            "Requirement already satisfied: tqdm in /usr/local/lib/python3.10/dist-packages (from nltk) (4.66.2)\n"
          ]
        }
      ]
    },
    {
      "cell_type": "code",
      "source": [
        "import pandas as pd\n",
        "from transformers import BertTokenizer, BertModel\n",
        "import torch\n",
        "import numpy as np\n",
        "\n",
        "# 读取清洗后的文本数据\n",
        "df = pd.read_csv('/content/drive/MyDrive/good and bad/cleaned_texts.csv')\n",
        "\n",
        "# 初始化BERT模型和分词器\n",
        "tokenizer = BertTokenizer.from_pretrained('bert-base-uncased')\n",
        "model = BertModel.from_pretrained('bert-base-uncased')\n",
        "\n",
        "# BERT编码文本的函数\n",
        "def bert_encode(text, tokenizer, model, max_len):\n",
        "    inputs = tokenizer.encode_plus(\n",
        "        text,\n",
        "        None,\n",
        "        add_special_tokens=True,\n",
        "        max_length=max_len,\n",
        "        padding='max_length',\n",
        "        return_token_type_ids=False,\n",
        "        return_attention_mask=True,\n",
        "        truncation=True\n",
        "    )\n",
        "    ids = inputs['input_ids']\n",
        "    mask = inputs['attention_mask']\n",
        "\n",
        "    # 转换为PyTorch tensors\n",
        "    ids = torch.tensor(ids).unsqueeze(0)\n",
        "    mask = torch.tensor(mask).unsqueeze(0)\n",
        "\n",
        "    # 使用BERT模型\n",
        "    with torch.no_grad():\n",
        "        outputs = model(ids, attention_mask=mask)\n",
        "\n",
        "    # 我们只关注[CLS]标记的输出\n",
        "    last_hidden_states = outputs.last_hidden_state\n",
        "    features = last_hidden_states[:, 0, :].numpy()\n",
        "    return features\n",
        "\n",
        "# 假设BERT模型的输出特征大小为768\n",
        "feature_size = 768\n",
        "\n",
        "# 初始化BERT特征矩阵\n",
        "bert_features = np.zeros((len(df), feature_size))\n",
        "\n",
        "# 用于保存文件名和特征的列表\n",
        "filenames_and_features = []\n",
        "\n",
        "# 遍历df处理每个文本\n",
        "for index, row in df.iterrows():\n",
        "    text = row['cleaned_text']\n",
        "    filename = row['filename']\n",
        "\n",
        "    if pd.isna(text) or text.strip() == \"\":\n",
        "        print(f\"Skipping empty text at index {index}\")\n",
        "        bert_features[index] = np.zeros((1, feature_size))\n",
        "    else:\n",
        "        try:\n",
        "            print(f\"Processing text {index+1}/{len(df)}: {text[:50]}...\")\n",
        "            features = bert_encode(text, tokenizer, model, max_len=512)\n",
        "            bert_features[index] = features.squeeze(0)\n",
        "\n",
        "            # 保存文件名和特征向量\n",
        "            filenames_and_features.append((filename, features.squeeze(0)))\n",
        "        except Exception as e:\n",
        "            print(f\"Error processing text at index {index}: {e}\")\n",
        "            bert_features[index] = np.zeros((1, feature_size))\n",
        "\n",
        "# 保存特征矩阵到.npy文件\n",
        "np.save('/content/drive/MyDrive/good and bad/bert_features_matrix.npy', bert_features)\n",
        "\n",
        "# 可选：将文件名和特征保存为DataFrame，然后导出到CSV\n",
        "df_filenames_and_features = pd.DataFrame(filenames_and_features, columns=['filename', 'features'])\n",
        "df_filenames_and_features.to_csv('/content/drive/MyDrive/good and bad/filenames_and_features.csv', index=False)\n",
        "\n"
      ],
      "metadata": {
        "colab": {
          "base_uri": "https://localhost:8080/"
        },
        "id": "6NYY6KsYw_WV",
        "outputId": "ec639991-0969-4a5c-8eb2-b6ef4040a63d"
      },
      "execution_count": 11,
      "outputs": [
        {
          "output_type": "stream",
          "name": "stdout",
          "text": [
            "Processing text 1/119: red deer polytechnic request proposal traditional ...\n",
            "Processing text 2/119: – frpfia lease comm pgr request proposal reesor ev...\n",
            "Processing text 3/119: september v ministry forest request proposal fuel ...\n",
            "Processing text 4/119: village burn lake lagoon sludge remov al request p...\n",
            "Processing text 5/119: regional district north okanagan request proposal ...\n",
            "Processing text 6/119: request proposal desludging dewatering queensway s...\n",
            "Processing text 7/119: request proposal curbside collection garbage recyc...\n",
            "Processing text 8/119: request proposal title wastewater treatment plant ...\n",
            "Processing text 9/119: request proposal hazelton waste management facilit...\n",
            "Processing text 10/119: regional district okanagan similkameen request pro...\n",
            "Processing text 11/119: board education school district vancouver request ...\n",
            "Processing text 12/119: rfp rdkb env bin page request proposal supply deli...\n",
            "Processing text 13/119: construction rfp page template release date august...\n",
            "Processing text 14/119: corporation city north vancouver request proposal ...\n",
            "Processing text 15/119: thompson nicola regional district request proposal...\n",
            "Processing text 16/119: solicitation amd client ref nrcan notice proposed ...\n",
            "Processing text 17/119: solicitation amendment modification de linvitation...\n",
            "Processing text 18/119: solicitation – nº de l ’ invitation b return bid r...\n",
            "Processing text 19/119: reissue bid solicitation bid solicitation cancel s...\n",
            "Processing text 20/119: national defence national defence headquarters ott...\n",
            "Processing text 21/119: notice proposed procurement npp solution based inf...\n",
            "Processing text 22/119: return bid retourner le soumissions à bid receivin...\n",
            "Processing text 23/119: page ofde aao dtfr représentant du canada nataliia...\n",
            "Processing text 24/119: notice proposed procurement npp task based informa...\n",
            "Processing text 25/119: advance contract award notice acan nrcan unclassif...\n",
            "Processing text 26/119: notice proposed procurement npp task based informa...\n",
            "Processing text 27/119: question answer question et réponses project descr...\n",
            "Processing text 28/119: b trade agreement canadian free trade agreement cf...\n",
            "Processing text 29/119: national defence national defence headquarters ott...\n",
            "Processing text 30/119: facsimile n° de télécopieur destinationarea code t...\n",
            "Processing text 31/119: return bid retourner le soumissions à bid receivin...\n",
            "Skipping empty text at index 31\n",
            "Processing text 33/119: annex b part solicitation requirement solicitation...\n",
            "Processing text 34/119: return offer retourner le offres soft copy copie é...\n",
            "Processing text 35/119: national defence national defence headquarters ott...\n",
            "Processing text 36/119: national defence défense nationale national defenc...\n",
            "Processing text 37/119: n° de l invitation solicitation page de retourner ...\n",
            "Processing text 38/119: qa – rfp – w x – peer support training employee as...\n",
            "Processing text 39/119: canada revenue agency solicitation page return bid...\n",
            "Processing text 40/119: solicitation – de l ’ invitation amendment modific...\n",
            "Processing text 41/119: january th standard council canada metcalfe street...\n",
            "Processing text 42/119: national defence national defence headquarters ott...\n",
            "Processing text 43/119: amendment solicitation w raised answer q uestion r...\n",
            "Processing text 44/119: agence canadienne canadian food ’ inspection de al...\n",
            "Processing text 45/119: return bid retourner le soumissions à bid receivin...\n",
            "Processing text 46/119: task based professional service tsps requirement p...\n",
            "Processing text 47/119: nº de la demande de soumissions n° de modification...\n",
            "Processing text 48/119: retourner le soumissions au module de réception de...\n",
            "Processing text 49/119: return bid retourner le soumissions à bidssoumissi...\n",
            "Processing text 50/119: retourner le soumissions au module de réception de...\n",
            "Processing text 51/119: page procurement contracting service victoria stre...\n",
            "Processing text 52/119: return bid retourner le soumissions à bidssoumissi...\n",
            "Processing text 53/119: negotiated request proposal addendum nrfp dc dc cd...\n",
            "Processing text 54/119: request proposal ised translation editing proofrea...\n",
            "Processing text 55/119: page return bid retourner le soumissions à bid rec...\n",
            "Processing text 56/119: national defence national defence headquarters ott...\n",
            "Processing text 57/119: title titre solicitation de l ’ invitation valve l...\n",
            "Processing text 58/119: return bid retourner le soumissions à bid receivin...\n",
            "Processing text 59/119: return bid park canada agency bid receiving unit n...\n",
            "Processing text 60/119: august page notice proposed procurement npp title ...\n",
            "Processing text 61/119: solicitation amendment modification de linvitation...\n",
            "Processing text 62/119: title titre solicitation de l ’ invitation hhti ba...\n",
            "Processing text 63/119: page de unclassified non classifié return bid reto...\n",
            "Processing text 64/119: amendment modification table indicates loading doc...\n",
            "Processing text 65/119: standard rfb vc january page return bid retourner ...\n",
            "Processing text 66/119: avis de projet dachat ap service professionnels ce...\n",
            "Processing text 67/119: acceptable email address response bid solicitation...\n",
            "Processing text 68/119: eccpnpp hôtels invités invited hotel nom name adre...\n",
            "Processing text 69/119: solicit ation n° de linvitation amd n° de la mo di...\n",
            "Processing text 70/119: rfpddp nrcan page de unclassified non classifié re...\n",
            "Processing text 71/119: unclassified non classifié r questionsanswers ques...\n",
            "Processing text 72/119: national defence national defence headquarters ott...\n",
            "Skipping empty text at index 72\n",
            "Processing text 74/119: document number version page de solicitation amend...\n",
            "Processing text 75/119: question answer question et réponses project descr...\n",
            "Processing text 76/119: national defence défense nationale national defenc...\n",
            "Processing text 77/119: return bid retourner le soumissions à bid receivin...\n",
            "Processing text 78/119: avis de projet de marché apm pour le service profe...\n",
            "Processing text 79/119: national defence national defence headquarters ott...\n",
            "Processing text 80/119: advance contract award notice acan using arctic pr...\n",
            "Processing text 81/119: title titre solicitation de l ’ invitation service...\n",
            "Processing text 82/119: title titre solicitation de l ’ invitation prescri...\n",
            "Processing text 83/119: solicitation n° de linvitation amd n° de la modif ...\n",
            "Processing text 84/119: page notic e proposed procurement npp template npp...\n",
            "Processing text 85/119: addendum purpose addendum hereto provide clarifica...\n",
            "Processing text 86/119: addendum january rfp sen title janitorial supply s...\n",
            "Processing text 87/119: return bid park canada agency bid receiving unit n...\n",
            "Processing text 88/119: return bid retourner le soumissions á park canada ...\n",
            "Processing text 89/119: notice proposed procurement npp task based informa...\n",
            "Processing text 90/119: – amendment modification page return bid retourner...\n",
            "Processing text 91/119: return bid retourner le soumissions bid receivingr...\n",
            "Processing text 92/119: return bid retourner le soumissions à bid receivin...\n",
            "Processing text 93/119: ddp nrcan page de unclassified non classifié retou...\n",
            "Processing text 94/119: standard rfb v c january page return bid retourner...\n",
            "Processing text 95/119: national defence national defence headquarters ott...\n",
            "Processing text 96/119: npp shared service canada – solution based informa...\n",
            "Processing text 97/119: page return bid retourner le soumissions à bid rec...\n",
            "Processing text 98/119: return bid retourner le soumissions à bid receivin...\n",
            "Processing text 99/119: solicitation – de l ’ invitation k modification pa...\n",
            "Processing text 100/119: notice proposed procurement solicitation irb contr...\n",
            "Processing text 101/119: notice proposed procurement npp offsite storage re...\n",
            "Processing text 102/119: standard rfb vc january page unclassified non clas...\n",
            "Processing text 103/119: nono project nono de projet departmental represent...\n",
            "Processing text 104/119: page de demande de proposition dp selon la méthode...\n",
            "Processing text 105/119: b page protected protégé qa date january roof repl...\n",
            "Processing text 106/119: page de nous offrons par la présente de vendre à s...\n",
            "Processing text 107/119: aafc aac e page aafc aac e page solicitation cover...\n",
            "Processing text 108/119: aafc rf b financial consulting service farm debt m...\n",
            "Processing text 109/119: solicitation ehn elec electrical electronic produc...\n",
            "Processing text 110/119: return bid retourner le soumissions à bid receivin...\n",
            "Processing text 111/119: solicitation n° de linvitation amd n° de la modif ...\n",
            "Processing text 112/119: national defence national defence headquarters ott...\n",
            "Processing text 113/119: amendment rfp cspsrfpkh la version française suit ...\n",
            "Processing text 114/119: rfb page return bid retourner le soumissions à see...\n",
            "Processing text 115/119: return bid retourner le soumissions elie el khouri...\n",
            "Processing text 116/119: return bid retourner le soumissions à bid receivin...\n",
            "Processing text 117/119: solicitation n° de linvitation amd n° de la modif ...\n",
            "Processing text 118/119: august page notice proposed procurement npp title ...\n",
            "Processing text 119/119: aafc aac e page return bid agriculture agrifood ca...\n"
          ]
        }
      ]
    },
    {
      "cell_type": "markdown",
      "source": [
        "### Step 4 - Model Training: Training with Random Forest Classifier"
      ],
      "metadata": {
        "id": "Y_pX_fWibgYy"
      }
    },
    {
      "cell_type": "code",
      "source": [],
      "metadata": {
        "id": "bV8oOZ9XbeWN"
      },
      "execution_count": null,
      "outputs": []
    },
    {
      "cell_type": "markdown",
      "source": [
        "# Step5 - Model Application"
      ],
      "metadata": {
        "id": "_TvIcvSRbnEL"
      }
    },
    {
      "cell_type": "code",
      "source": [
        "pip install joblib\n"
      ],
      "metadata": {
        "colab": {
          "base_uri": "https://localhost:8080/"
        },
        "id": "e3qOGC-hpzlS",
        "outputId": "a7abff11-e658-434a-8753-74b4f3a1acf4"
      },
      "execution_count": 12,
      "outputs": [
        {
          "output_type": "stream",
          "name": "stdout",
          "text": [
            "Requirement already satisfied: joblib in /usr/local/lib/python3.10/dist-packages (1.3.2)\n"
          ]
        }
      ]
    },
    {
      "cell_type": "code",
      "source": [
        "import pandas as pd\n",
        "from keras.models import load_model\n",
        "import numpy as np\n",
        "import joblib\n"
      ],
      "metadata": {
        "id": "YrnDCdUwp1QA"
      },
      "execution_count": 20,
      "outputs": []
    },
    {
      "cell_type": "code",
      "source": [
        "# ...[之前的代码导入和模型加载]...\n",
        "\n",
        "# 加载BERT特征矩阵\n",
        "bert_features_matrix = np.load('/content/drive/MyDrive/good and bad/bert_features_matrix.npy')\n",
        "print(\"Length of bert_features_matrix:\", len(bert_features_matrix))\n",
        "\n",
        "# 使用模型进行预测\n",
        "predictions = model.predict(bert_features_matrix)\n",
        "print(\"Length of predictions:\", len(predictions))\n",
        "\n",
        "# 预测结果转换为类别标签\n",
        "predicted_labels = np.argmax(predictions, axis=1)\n",
        "predicted_classes = label_encoder.inverse_transform(predicted_labels)\n",
        "print(\"Length of predicted_classes:\", len(predicted_classes))\n",
        "\n",
        "# 加载句子和文件名的DataFrame\n",
        "df_sentences_and_filenames = pd.read_csv('/content/drive/MyDrive/good and bad/filenames_and_features.csv')\n",
        "print(\"Length of df_sentences_and_filenames:\", len(df_sentences_and_filenames))\n",
        "\n",
        "# 在这里进行长度比较\n",
        "if len(predicted_classes) != len(df_sentences_and_filenames):\n",
        "    print(\"Mismatch in lengths detected:\")\n",
        "    print(\"Length of predicted_classes:\", len(predicted_classes))\n",
        "    print(\"Length of df_sentences_and_filenames:\", len(df_sentences_and_filenames))\n",
        "    # 可以在这里进一步调查哪个部分的数据处理出现了问题\n",
        "else:\n",
        "    print(\"Lengths match, proceeding with processing.\")\n",
        "    # 在这里继续后续处理\n",
        "    df_sentences_and_filenames['predicted_level'] = predicted_classes\n",
        "    # ...[后续的数据处理代码]...\n"
      ],
      "metadata": {
        "colab": {
          "base_uri": "https://localhost:8080/"
        },
        "id": "X8WubExP8uKH",
        "outputId": "b10eecba-efa3-4ba4-d4ca-9174aabc7763"
      },
      "execution_count": 24,
      "outputs": [
        {
          "output_type": "stream",
          "name": "stdout",
          "text": [
            "Length of bert_features_matrix: 119\n",
            "4/4 [==============================] - 0s 8ms/step\n",
            "Length of predictions: 119\n",
            "Length of predicted_classes: 119\n",
            "Length of df_sentences_and_filenames: 117\n",
            "Mismatch in lengths detected:\n",
            "Length of predicted_classes: 119\n",
            "Length of df_sentences_and_filenames: 117\n"
          ]
        }
      ]
    },
    {
      "cell_type": "code",
      "source": [
        "import pandas as pd\n",
        "import numpy as np\n",
        "import torch\n",
        "from transformers import BertTokenizer, BertModel\n",
        "\n",
        "# 假设的文件路径\n",
        "file_path = '/content/drive/MyDrive/good and bad/cleaned_texts.csv'\n",
        "\n",
        "# 读取数据\n",
        "df = pd.read_csv(file_path)\n",
        "\n",
        "# 初始化BERT模型和分词器\n",
        "tokenizer = BertTokenizer.from_pretrained('bert-base-uncased')\n",
        "model = BertModel.from_pretrained('bert-base-uncased')\n",
        "\n",
        "# 定义BERT编码函数\n",
        "# ...\n",
        "\n",
        "# 特征提取\n",
        "feature_size = 768\n",
        "bert_features = np.zeros((len(df), feature_size))\n",
        "\n",
        "# 新建一个DataFrame来保存句子和对应的文件名及特征\n",
        "df_sentences_and_features = pd.DataFrame(columns=['filename', 'sentence', 'features'])\n",
        "\n",
        "for index, row in df.iterrows():\n",
        "    text = row['cleaned_text']\n",
        "    filename = row['filename']\n",
        "\n",
        "    # 检查文本是否为空\n",
        "    if pd.isna(text) or text.strip() == '':\n",
        "        bert_features[index] = np.zeros((1, feature_size))  # 使用零向量填充\n",
        "        # 同时在df_sentences_and_features中添加一个占位符行\n",
        "        df_sentences_and_features = df_sentences_and_features.append({'filename': filename, 'sentence': text, 'features': np.zeros((1, feature_size)).tolist()}, ignore_index=True)\n",
        "        continue\n",
        "\n",
        "    # 进行BERT编码，并在df_sentences_and_features中添加相应的行\n",
        "    try:\n",
        "        features = bert_encode(text, tokenizer, model, max_len=512)\n",
        "        bert_features[index] = features.squeeze(0)\n",
        "        df_sentences_and_features = df_sentences_and_features.append({'filename': filename, 'sentence': text, 'features': features.squeeze(0).tolist()}, ignore_index=True)\n",
        "    except Exception as e:\n",
        "        # 处理异常，添加零向量和占位符行\n",
        "        bert_features[index] = np.zeros((1, feature_size))\n",
        "        df_sentences_and_features = df_sentences_and_features.append({'filename': filename, 'sentence': text, 'features': np.zeros((1, feature_size)).tolist()}, ignore_index=True)\n",
        "\n",
        "# 保存BERT特征和句子文件名DataFrame\n",
        "np.save('/content/drive/MyDrive/good and bad/bert_features_matrix.npy', bert_features)\n",
        "df_sentences_and_features.to_csv('/content/drive/MyDrive/good and bad/filenames_and_features.csv', index=False)\n"
      ],
      "metadata": {
        "colab": {
          "base_uri": "https://localhost:8080/"
        },
        "id": "a2k0T1I39F9G",
        "outputId": "c3e29a6e-9c60-4b7f-f9fb-a570958eff8c"
      },
      "execution_count": 25,
      "outputs": [
        {
          "output_type": "stream",
          "name": "stderr",
          "text": [
            "<ipython-input-25-2a47d28ebcd7>:41: FutureWarning: The frame.append method is deprecated and will be removed from pandas in a future version. Use pandas.concat instead.\n",
            "  df_sentences_and_features = df_sentences_and_features.append({'filename': filename, 'sentence': text, 'features': features.squeeze(0).tolist()}, ignore_index=True)\n",
            "<ipython-input-25-2a47d28ebcd7>:41: FutureWarning: The frame.append method is deprecated and will be removed from pandas in a future version. Use pandas.concat instead.\n",
            "  df_sentences_and_features = df_sentences_and_features.append({'filename': filename, 'sentence': text, 'features': features.squeeze(0).tolist()}, ignore_index=True)\n",
            "<ipython-input-25-2a47d28ebcd7>:41: FutureWarning: The frame.append method is deprecated and will be removed from pandas in a future version. Use pandas.concat instead.\n",
            "  df_sentences_and_features = df_sentences_and_features.append({'filename': filename, 'sentence': text, 'features': features.squeeze(0).tolist()}, ignore_index=True)\n",
            "<ipython-input-25-2a47d28ebcd7>:41: FutureWarning: The frame.append method is deprecated and will be removed from pandas in a future version. Use pandas.concat instead.\n",
            "  df_sentences_and_features = df_sentences_and_features.append({'filename': filename, 'sentence': text, 'features': features.squeeze(0).tolist()}, ignore_index=True)\n",
            "<ipython-input-25-2a47d28ebcd7>:41: FutureWarning: The frame.append method is deprecated and will be removed from pandas in a future version. Use pandas.concat instead.\n",
            "  df_sentences_and_features = df_sentences_and_features.append({'filename': filename, 'sentence': text, 'features': features.squeeze(0).tolist()}, ignore_index=True)\n",
            "<ipython-input-25-2a47d28ebcd7>:41: FutureWarning: The frame.append method is deprecated and will be removed from pandas in a future version. Use pandas.concat instead.\n",
            "  df_sentences_and_features = df_sentences_and_features.append({'filename': filename, 'sentence': text, 'features': features.squeeze(0).tolist()}, ignore_index=True)\n",
            "<ipython-input-25-2a47d28ebcd7>:41: FutureWarning: The frame.append method is deprecated and will be removed from pandas in a future version. Use pandas.concat instead.\n",
            "  df_sentences_and_features = df_sentences_and_features.append({'filename': filename, 'sentence': text, 'features': features.squeeze(0).tolist()}, ignore_index=True)\n",
            "<ipython-input-25-2a47d28ebcd7>:41: FutureWarning: The frame.append method is deprecated and will be removed from pandas in a future version. Use pandas.concat instead.\n",
            "  df_sentences_and_features = df_sentences_and_features.append({'filename': filename, 'sentence': text, 'features': features.squeeze(0).tolist()}, ignore_index=True)\n",
            "<ipython-input-25-2a47d28ebcd7>:41: FutureWarning: The frame.append method is deprecated and will be removed from pandas in a future version. Use pandas.concat instead.\n",
            "  df_sentences_and_features = df_sentences_and_features.append({'filename': filename, 'sentence': text, 'features': features.squeeze(0).tolist()}, ignore_index=True)\n",
            "<ipython-input-25-2a47d28ebcd7>:41: FutureWarning: The frame.append method is deprecated and will be removed from pandas in a future version. Use pandas.concat instead.\n",
            "  df_sentences_and_features = df_sentences_and_features.append({'filename': filename, 'sentence': text, 'features': features.squeeze(0).tolist()}, ignore_index=True)\n",
            "<ipython-input-25-2a47d28ebcd7>:41: FutureWarning: The frame.append method is deprecated and will be removed from pandas in a future version. Use pandas.concat instead.\n",
            "  df_sentences_and_features = df_sentences_and_features.append({'filename': filename, 'sentence': text, 'features': features.squeeze(0).tolist()}, ignore_index=True)\n",
            "<ipython-input-25-2a47d28ebcd7>:41: FutureWarning: The frame.append method is deprecated and will be removed from pandas in a future version. Use pandas.concat instead.\n",
            "  df_sentences_and_features = df_sentences_and_features.append({'filename': filename, 'sentence': text, 'features': features.squeeze(0).tolist()}, ignore_index=True)\n",
            "<ipython-input-25-2a47d28ebcd7>:41: FutureWarning: The frame.append method is deprecated and will be removed from pandas in a future version. Use pandas.concat instead.\n",
            "  df_sentences_and_features = df_sentences_and_features.append({'filename': filename, 'sentence': text, 'features': features.squeeze(0).tolist()}, ignore_index=True)\n",
            "<ipython-input-25-2a47d28ebcd7>:41: FutureWarning: The frame.append method is deprecated and will be removed from pandas in a future version. Use pandas.concat instead.\n",
            "  df_sentences_and_features = df_sentences_and_features.append({'filename': filename, 'sentence': text, 'features': features.squeeze(0).tolist()}, ignore_index=True)\n",
            "<ipython-input-25-2a47d28ebcd7>:41: FutureWarning: The frame.append method is deprecated and will be removed from pandas in a future version. Use pandas.concat instead.\n",
            "  df_sentences_and_features = df_sentences_and_features.append({'filename': filename, 'sentence': text, 'features': features.squeeze(0).tolist()}, ignore_index=True)\n",
            "<ipython-input-25-2a47d28ebcd7>:41: FutureWarning: The frame.append method is deprecated and will be removed from pandas in a future version. Use pandas.concat instead.\n",
            "  df_sentences_and_features = df_sentences_and_features.append({'filename': filename, 'sentence': text, 'features': features.squeeze(0).tolist()}, ignore_index=True)\n",
            "<ipython-input-25-2a47d28ebcd7>:41: FutureWarning: The frame.append method is deprecated and will be removed from pandas in a future version. Use pandas.concat instead.\n",
            "  df_sentences_and_features = df_sentences_and_features.append({'filename': filename, 'sentence': text, 'features': features.squeeze(0).tolist()}, ignore_index=True)\n",
            "<ipython-input-25-2a47d28ebcd7>:41: FutureWarning: The frame.append method is deprecated and will be removed from pandas in a future version. Use pandas.concat instead.\n",
            "  df_sentences_and_features = df_sentences_and_features.append({'filename': filename, 'sentence': text, 'features': features.squeeze(0).tolist()}, ignore_index=True)\n",
            "<ipython-input-25-2a47d28ebcd7>:41: FutureWarning: The frame.append method is deprecated and will be removed from pandas in a future version. Use pandas.concat instead.\n",
            "  df_sentences_and_features = df_sentences_and_features.append({'filename': filename, 'sentence': text, 'features': features.squeeze(0).tolist()}, ignore_index=True)\n",
            "<ipython-input-25-2a47d28ebcd7>:41: FutureWarning: The frame.append method is deprecated and will be removed from pandas in a future version. Use pandas.concat instead.\n",
            "  df_sentences_and_features = df_sentences_and_features.append({'filename': filename, 'sentence': text, 'features': features.squeeze(0).tolist()}, ignore_index=True)\n",
            "<ipython-input-25-2a47d28ebcd7>:41: FutureWarning: The frame.append method is deprecated and will be removed from pandas in a future version. Use pandas.concat instead.\n",
            "  df_sentences_and_features = df_sentences_and_features.append({'filename': filename, 'sentence': text, 'features': features.squeeze(0).tolist()}, ignore_index=True)\n",
            "<ipython-input-25-2a47d28ebcd7>:41: FutureWarning: The frame.append method is deprecated and will be removed from pandas in a future version. Use pandas.concat instead.\n",
            "  df_sentences_and_features = df_sentences_and_features.append({'filename': filename, 'sentence': text, 'features': features.squeeze(0).tolist()}, ignore_index=True)\n",
            "<ipython-input-25-2a47d28ebcd7>:41: FutureWarning: The frame.append method is deprecated and will be removed from pandas in a future version. Use pandas.concat instead.\n",
            "  df_sentences_and_features = df_sentences_and_features.append({'filename': filename, 'sentence': text, 'features': features.squeeze(0).tolist()}, ignore_index=True)\n",
            "<ipython-input-25-2a47d28ebcd7>:41: FutureWarning: The frame.append method is deprecated and will be removed from pandas in a future version. Use pandas.concat instead.\n",
            "  df_sentences_and_features = df_sentences_and_features.append({'filename': filename, 'sentence': text, 'features': features.squeeze(0).tolist()}, ignore_index=True)\n",
            "<ipython-input-25-2a47d28ebcd7>:41: FutureWarning: The frame.append method is deprecated and will be removed from pandas in a future version. Use pandas.concat instead.\n",
            "  df_sentences_and_features = df_sentences_and_features.append({'filename': filename, 'sentence': text, 'features': features.squeeze(0).tolist()}, ignore_index=True)\n",
            "<ipython-input-25-2a47d28ebcd7>:41: FutureWarning: The frame.append method is deprecated and will be removed from pandas in a future version. Use pandas.concat instead.\n",
            "  df_sentences_and_features = df_sentences_and_features.append({'filename': filename, 'sentence': text, 'features': features.squeeze(0).tolist()}, ignore_index=True)\n",
            "<ipython-input-25-2a47d28ebcd7>:41: FutureWarning: The frame.append method is deprecated and will be removed from pandas in a future version. Use pandas.concat instead.\n",
            "  df_sentences_and_features = df_sentences_and_features.append({'filename': filename, 'sentence': text, 'features': features.squeeze(0).tolist()}, ignore_index=True)\n",
            "<ipython-input-25-2a47d28ebcd7>:41: FutureWarning: The frame.append method is deprecated and will be removed from pandas in a future version. Use pandas.concat instead.\n",
            "  df_sentences_and_features = df_sentences_and_features.append({'filename': filename, 'sentence': text, 'features': features.squeeze(0).tolist()}, ignore_index=True)\n",
            "<ipython-input-25-2a47d28ebcd7>:41: FutureWarning: The frame.append method is deprecated and will be removed from pandas in a future version. Use pandas.concat instead.\n",
            "  df_sentences_and_features = df_sentences_and_features.append({'filename': filename, 'sentence': text, 'features': features.squeeze(0).tolist()}, ignore_index=True)\n",
            "<ipython-input-25-2a47d28ebcd7>:41: FutureWarning: The frame.append method is deprecated and will be removed from pandas in a future version. Use pandas.concat instead.\n",
            "  df_sentences_and_features = df_sentences_and_features.append({'filename': filename, 'sentence': text, 'features': features.squeeze(0).tolist()}, ignore_index=True)\n",
            "<ipython-input-25-2a47d28ebcd7>:41: FutureWarning: The frame.append method is deprecated and will be removed from pandas in a future version. Use pandas.concat instead.\n",
            "  df_sentences_and_features = df_sentences_and_features.append({'filename': filename, 'sentence': text, 'features': features.squeeze(0).tolist()}, ignore_index=True)\n",
            "<ipython-input-25-2a47d28ebcd7>:34: FutureWarning: The frame.append method is deprecated and will be removed from pandas in a future version. Use pandas.concat instead.\n",
            "  df_sentences_and_features = df_sentences_and_features.append({'filename': filename, 'sentence': text, 'features': np.zeros((1, feature_size)).tolist()}, ignore_index=True)\n",
            "<ipython-input-25-2a47d28ebcd7>:41: FutureWarning: The frame.append method is deprecated and will be removed from pandas in a future version. Use pandas.concat instead.\n",
            "  df_sentences_and_features = df_sentences_and_features.append({'filename': filename, 'sentence': text, 'features': features.squeeze(0).tolist()}, ignore_index=True)\n",
            "<ipython-input-25-2a47d28ebcd7>:41: FutureWarning: The frame.append method is deprecated and will be removed from pandas in a future version. Use pandas.concat instead.\n",
            "  df_sentences_and_features = df_sentences_and_features.append({'filename': filename, 'sentence': text, 'features': features.squeeze(0).tolist()}, ignore_index=True)\n",
            "<ipython-input-25-2a47d28ebcd7>:41: FutureWarning: The frame.append method is deprecated and will be removed from pandas in a future version. Use pandas.concat instead.\n",
            "  df_sentences_and_features = df_sentences_and_features.append({'filename': filename, 'sentence': text, 'features': features.squeeze(0).tolist()}, ignore_index=True)\n",
            "<ipython-input-25-2a47d28ebcd7>:41: FutureWarning: The frame.append method is deprecated and will be removed from pandas in a future version. Use pandas.concat instead.\n",
            "  df_sentences_and_features = df_sentences_and_features.append({'filename': filename, 'sentence': text, 'features': features.squeeze(0).tolist()}, ignore_index=True)\n",
            "<ipython-input-25-2a47d28ebcd7>:41: FutureWarning: The frame.append method is deprecated and will be removed from pandas in a future version. Use pandas.concat instead.\n",
            "  df_sentences_and_features = df_sentences_and_features.append({'filename': filename, 'sentence': text, 'features': features.squeeze(0).tolist()}, ignore_index=True)\n",
            "<ipython-input-25-2a47d28ebcd7>:41: FutureWarning: The frame.append method is deprecated and will be removed from pandas in a future version. Use pandas.concat instead.\n",
            "  df_sentences_and_features = df_sentences_and_features.append({'filename': filename, 'sentence': text, 'features': features.squeeze(0).tolist()}, ignore_index=True)\n",
            "<ipython-input-25-2a47d28ebcd7>:41: FutureWarning: The frame.append method is deprecated and will be removed from pandas in a future version. Use pandas.concat instead.\n",
            "  df_sentences_and_features = df_sentences_and_features.append({'filename': filename, 'sentence': text, 'features': features.squeeze(0).tolist()}, ignore_index=True)\n",
            "<ipython-input-25-2a47d28ebcd7>:41: FutureWarning: The frame.append method is deprecated and will be removed from pandas in a future version. Use pandas.concat instead.\n",
            "  df_sentences_and_features = df_sentences_and_features.append({'filename': filename, 'sentence': text, 'features': features.squeeze(0).tolist()}, ignore_index=True)\n",
            "<ipython-input-25-2a47d28ebcd7>:41: FutureWarning: The frame.append method is deprecated and will be removed from pandas in a future version. Use pandas.concat instead.\n",
            "  df_sentences_and_features = df_sentences_and_features.append({'filename': filename, 'sentence': text, 'features': features.squeeze(0).tolist()}, ignore_index=True)\n",
            "<ipython-input-25-2a47d28ebcd7>:41: FutureWarning: The frame.append method is deprecated and will be removed from pandas in a future version. Use pandas.concat instead.\n",
            "  df_sentences_and_features = df_sentences_and_features.append({'filename': filename, 'sentence': text, 'features': features.squeeze(0).tolist()}, ignore_index=True)\n",
            "<ipython-input-25-2a47d28ebcd7>:41: FutureWarning: The frame.append method is deprecated and will be removed from pandas in a future version. Use pandas.concat instead.\n",
            "  df_sentences_and_features = df_sentences_and_features.append({'filename': filename, 'sentence': text, 'features': features.squeeze(0).tolist()}, ignore_index=True)\n",
            "<ipython-input-25-2a47d28ebcd7>:41: FutureWarning: The frame.append method is deprecated and will be removed from pandas in a future version. Use pandas.concat instead.\n",
            "  df_sentences_and_features = df_sentences_and_features.append({'filename': filename, 'sentence': text, 'features': features.squeeze(0).tolist()}, ignore_index=True)\n",
            "<ipython-input-25-2a47d28ebcd7>:41: FutureWarning: The frame.append method is deprecated and will be removed from pandas in a future version. Use pandas.concat instead.\n",
            "  df_sentences_and_features = df_sentences_and_features.append({'filename': filename, 'sentence': text, 'features': features.squeeze(0).tolist()}, ignore_index=True)\n",
            "<ipython-input-25-2a47d28ebcd7>:41: FutureWarning: The frame.append method is deprecated and will be removed from pandas in a future version. Use pandas.concat instead.\n",
            "  df_sentences_and_features = df_sentences_and_features.append({'filename': filename, 'sentence': text, 'features': features.squeeze(0).tolist()}, ignore_index=True)\n",
            "<ipython-input-25-2a47d28ebcd7>:41: FutureWarning: The frame.append method is deprecated and will be removed from pandas in a future version. Use pandas.concat instead.\n",
            "  df_sentences_and_features = df_sentences_and_features.append({'filename': filename, 'sentence': text, 'features': features.squeeze(0).tolist()}, ignore_index=True)\n",
            "<ipython-input-25-2a47d28ebcd7>:41: FutureWarning: The frame.append method is deprecated and will be removed from pandas in a future version. Use pandas.concat instead.\n",
            "  df_sentences_and_features = df_sentences_and_features.append({'filename': filename, 'sentence': text, 'features': features.squeeze(0).tolist()}, ignore_index=True)\n",
            "<ipython-input-25-2a47d28ebcd7>:41: FutureWarning: The frame.append method is deprecated and will be removed from pandas in a future version. Use pandas.concat instead.\n",
            "  df_sentences_and_features = df_sentences_and_features.append({'filename': filename, 'sentence': text, 'features': features.squeeze(0).tolist()}, ignore_index=True)\n",
            "<ipython-input-25-2a47d28ebcd7>:41: FutureWarning: The frame.append method is deprecated and will be removed from pandas in a future version. Use pandas.concat instead.\n",
            "  df_sentences_and_features = df_sentences_and_features.append({'filename': filename, 'sentence': text, 'features': features.squeeze(0).tolist()}, ignore_index=True)\n",
            "<ipython-input-25-2a47d28ebcd7>:41: FutureWarning: The frame.append method is deprecated and will be removed from pandas in a future version. Use pandas.concat instead.\n",
            "  df_sentences_and_features = df_sentences_and_features.append({'filename': filename, 'sentence': text, 'features': features.squeeze(0).tolist()}, ignore_index=True)\n",
            "<ipython-input-25-2a47d28ebcd7>:41: FutureWarning: The frame.append method is deprecated and will be removed from pandas in a future version. Use pandas.concat instead.\n",
            "  df_sentences_and_features = df_sentences_and_features.append({'filename': filename, 'sentence': text, 'features': features.squeeze(0).tolist()}, ignore_index=True)\n",
            "<ipython-input-25-2a47d28ebcd7>:41: FutureWarning: The frame.append method is deprecated and will be removed from pandas in a future version. Use pandas.concat instead.\n",
            "  df_sentences_and_features = df_sentences_and_features.append({'filename': filename, 'sentence': text, 'features': features.squeeze(0).tolist()}, ignore_index=True)\n",
            "<ipython-input-25-2a47d28ebcd7>:41: FutureWarning: The frame.append method is deprecated and will be removed from pandas in a future version. Use pandas.concat instead.\n",
            "  df_sentences_and_features = df_sentences_and_features.append({'filename': filename, 'sentence': text, 'features': features.squeeze(0).tolist()}, ignore_index=True)\n",
            "<ipython-input-25-2a47d28ebcd7>:41: FutureWarning: The frame.append method is deprecated and will be removed from pandas in a future version. Use pandas.concat instead.\n",
            "  df_sentences_and_features = df_sentences_and_features.append({'filename': filename, 'sentence': text, 'features': features.squeeze(0).tolist()}, ignore_index=True)\n",
            "<ipython-input-25-2a47d28ebcd7>:41: FutureWarning: The frame.append method is deprecated and will be removed from pandas in a future version. Use pandas.concat instead.\n",
            "  df_sentences_and_features = df_sentences_and_features.append({'filename': filename, 'sentence': text, 'features': features.squeeze(0).tolist()}, ignore_index=True)\n",
            "<ipython-input-25-2a47d28ebcd7>:41: FutureWarning: The frame.append method is deprecated and will be removed from pandas in a future version. Use pandas.concat instead.\n",
            "  df_sentences_and_features = df_sentences_and_features.append({'filename': filename, 'sentence': text, 'features': features.squeeze(0).tolist()}, ignore_index=True)\n",
            "<ipython-input-25-2a47d28ebcd7>:41: FutureWarning: The frame.append method is deprecated and will be removed from pandas in a future version. Use pandas.concat instead.\n",
            "  df_sentences_and_features = df_sentences_and_features.append({'filename': filename, 'sentence': text, 'features': features.squeeze(0).tolist()}, ignore_index=True)\n",
            "<ipython-input-25-2a47d28ebcd7>:41: FutureWarning: The frame.append method is deprecated and will be removed from pandas in a future version. Use pandas.concat instead.\n",
            "  df_sentences_and_features = df_sentences_and_features.append({'filename': filename, 'sentence': text, 'features': features.squeeze(0).tolist()}, ignore_index=True)\n",
            "<ipython-input-25-2a47d28ebcd7>:41: FutureWarning: The frame.append method is deprecated and will be removed from pandas in a future version. Use pandas.concat instead.\n",
            "  df_sentences_and_features = df_sentences_and_features.append({'filename': filename, 'sentence': text, 'features': features.squeeze(0).tolist()}, ignore_index=True)\n",
            "<ipython-input-25-2a47d28ebcd7>:41: FutureWarning: The frame.append method is deprecated and will be removed from pandas in a future version. Use pandas.concat instead.\n",
            "  df_sentences_and_features = df_sentences_and_features.append({'filename': filename, 'sentence': text, 'features': features.squeeze(0).tolist()}, ignore_index=True)\n",
            "<ipython-input-25-2a47d28ebcd7>:41: FutureWarning: The frame.append method is deprecated and will be removed from pandas in a future version. Use pandas.concat instead.\n",
            "  df_sentences_and_features = df_sentences_and_features.append({'filename': filename, 'sentence': text, 'features': features.squeeze(0).tolist()}, ignore_index=True)\n",
            "<ipython-input-25-2a47d28ebcd7>:41: FutureWarning: The frame.append method is deprecated and will be removed from pandas in a future version. Use pandas.concat instead.\n",
            "  df_sentences_and_features = df_sentences_and_features.append({'filename': filename, 'sentence': text, 'features': features.squeeze(0).tolist()}, ignore_index=True)\n",
            "<ipython-input-25-2a47d28ebcd7>:41: FutureWarning: The frame.append method is deprecated and will be removed from pandas in a future version. Use pandas.concat instead.\n",
            "  df_sentences_and_features = df_sentences_and_features.append({'filename': filename, 'sentence': text, 'features': features.squeeze(0).tolist()}, ignore_index=True)\n",
            "<ipython-input-25-2a47d28ebcd7>:41: FutureWarning: The frame.append method is deprecated and will be removed from pandas in a future version. Use pandas.concat instead.\n",
            "  df_sentences_and_features = df_sentences_and_features.append({'filename': filename, 'sentence': text, 'features': features.squeeze(0).tolist()}, ignore_index=True)\n",
            "<ipython-input-25-2a47d28ebcd7>:41: FutureWarning: The frame.append method is deprecated and will be removed from pandas in a future version. Use pandas.concat instead.\n",
            "  df_sentences_and_features = df_sentences_and_features.append({'filename': filename, 'sentence': text, 'features': features.squeeze(0).tolist()}, ignore_index=True)\n",
            "<ipython-input-25-2a47d28ebcd7>:41: FutureWarning: The frame.append method is deprecated and will be removed from pandas in a future version. Use pandas.concat instead.\n",
            "  df_sentences_and_features = df_sentences_and_features.append({'filename': filename, 'sentence': text, 'features': features.squeeze(0).tolist()}, ignore_index=True)\n",
            "<ipython-input-25-2a47d28ebcd7>:41: FutureWarning: The frame.append method is deprecated and will be removed from pandas in a future version. Use pandas.concat instead.\n",
            "  df_sentences_and_features = df_sentences_and_features.append({'filename': filename, 'sentence': text, 'features': features.squeeze(0).tolist()}, ignore_index=True)\n",
            "<ipython-input-25-2a47d28ebcd7>:41: FutureWarning: The frame.append method is deprecated and will be removed from pandas in a future version. Use pandas.concat instead.\n",
            "  df_sentences_and_features = df_sentences_and_features.append({'filename': filename, 'sentence': text, 'features': features.squeeze(0).tolist()}, ignore_index=True)\n",
            "<ipython-input-25-2a47d28ebcd7>:41: FutureWarning: The frame.append method is deprecated and will be removed from pandas in a future version. Use pandas.concat instead.\n",
            "  df_sentences_and_features = df_sentences_and_features.append({'filename': filename, 'sentence': text, 'features': features.squeeze(0).tolist()}, ignore_index=True)\n",
            "<ipython-input-25-2a47d28ebcd7>:41: FutureWarning: The frame.append method is deprecated and will be removed from pandas in a future version. Use pandas.concat instead.\n",
            "  df_sentences_and_features = df_sentences_and_features.append({'filename': filename, 'sentence': text, 'features': features.squeeze(0).tolist()}, ignore_index=True)\n",
            "<ipython-input-25-2a47d28ebcd7>:41: FutureWarning: The frame.append method is deprecated and will be removed from pandas in a future version. Use pandas.concat instead.\n",
            "  df_sentences_and_features = df_sentences_and_features.append({'filename': filename, 'sentence': text, 'features': features.squeeze(0).tolist()}, ignore_index=True)\n",
            "<ipython-input-25-2a47d28ebcd7>:34: FutureWarning: The frame.append method is deprecated and will be removed from pandas in a future version. Use pandas.concat instead.\n",
            "  df_sentences_and_features = df_sentences_and_features.append({'filename': filename, 'sentence': text, 'features': np.zeros((1, feature_size)).tolist()}, ignore_index=True)\n",
            "<ipython-input-25-2a47d28ebcd7>:41: FutureWarning: The frame.append method is deprecated and will be removed from pandas in a future version. Use pandas.concat instead.\n",
            "  df_sentences_and_features = df_sentences_and_features.append({'filename': filename, 'sentence': text, 'features': features.squeeze(0).tolist()}, ignore_index=True)\n",
            "<ipython-input-25-2a47d28ebcd7>:41: FutureWarning: The frame.append method is deprecated and will be removed from pandas in a future version. Use pandas.concat instead.\n",
            "  df_sentences_and_features = df_sentences_and_features.append({'filename': filename, 'sentence': text, 'features': features.squeeze(0).tolist()}, ignore_index=True)\n",
            "<ipython-input-25-2a47d28ebcd7>:41: FutureWarning: The frame.append method is deprecated and will be removed from pandas in a future version. Use pandas.concat instead.\n",
            "  df_sentences_and_features = df_sentences_and_features.append({'filename': filename, 'sentence': text, 'features': features.squeeze(0).tolist()}, ignore_index=True)\n",
            "<ipython-input-25-2a47d28ebcd7>:41: FutureWarning: The frame.append method is deprecated and will be removed from pandas in a future version. Use pandas.concat instead.\n",
            "  df_sentences_and_features = df_sentences_and_features.append({'filename': filename, 'sentence': text, 'features': features.squeeze(0).tolist()}, ignore_index=True)\n",
            "<ipython-input-25-2a47d28ebcd7>:41: FutureWarning: The frame.append method is deprecated and will be removed from pandas in a future version. Use pandas.concat instead.\n",
            "  df_sentences_and_features = df_sentences_and_features.append({'filename': filename, 'sentence': text, 'features': features.squeeze(0).tolist()}, ignore_index=True)\n",
            "<ipython-input-25-2a47d28ebcd7>:41: FutureWarning: The frame.append method is deprecated and will be removed from pandas in a future version. Use pandas.concat instead.\n",
            "  df_sentences_and_features = df_sentences_and_features.append({'filename': filename, 'sentence': text, 'features': features.squeeze(0).tolist()}, ignore_index=True)\n",
            "<ipython-input-25-2a47d28ebcd7>:41: FutureWarning: The frame.append method is deprecated and will be removed from pandas in a future version. Use pandas.concat instead.\n",
            "  df_sentences_and_features = df_sentences_and_features.append({'filename': filename, 'sentence': text, 'features': features.squeeze(0).tolist()}, ignore_index=True)\n",
            "<ipython-input-25-2a47d28ebcd7>:41: FutureWarning: The frame.append method is deprecated and will be removed from pandas in a future version. Use pandas.concat instead.\n",
            "  df_sentences_and_features = df_sentences_and_features.append({'filename': filename, 'sentence': text, 'features': features.squeeze(0).tolist()}, ignore_index=True)\n",
            "<ipython-input-25-2a47d28ebcd7>:41: FutureWarning: The frame.append method is deprecated and will be removed from pandas in a future version. Use pandas.concat instead.\n",
            "  df_sentences_and_features = df_sentences_and_features.append({'filename': filename, 'sentence': text, 'features': features.squeeze(0).tolist()}, ignore_index=True)\n",
            "<ipython-input-25-2a47d28ebcd7>:41: FutureWarning: The frame.append method is deprecated and will be removed from pandas in a future version. Use pandas.concat instead.\n",
            "  df_sentences_and_features = df_sentences_and_features.append({'filename': filename, 'sentence': text, 'features': features.squeeze(0).tolist()}, ignore_index=True)\n",
            "<ipython-input-25-2a47d28ebcd7>:41: FutureWarning: The frame.append method is deprecated and will be removed from pandas in a future version. Use pandas.concat instead.\n",
            "  df_sentences_and_features = df_sentences_and_features.append({'filename': filename, 'sentence': text, 'features': features.squeeze(0).tolist()}, ignore_index=True)\n",
            "<ipython-input-25-2a47d28ebcd7>:41: FutureWarning: The frame.append method is deprecated and will be removed from pandas in a future version. Use pandas.concat instead.\n",
            "  df_sentences_and_features = df_sentences_and_features.append({'filename': filename, 'sentence': text, 'features': features.squeeze(0).tolist()}, ignore_index=True)\n",
            "<ipython-input-25-2a47d28ebcd7>:41: FutureWarning: The frame.append method is deprecated and will be removed from pandas in a future version. Use pandas.concat instead.\n",
            "  df_sentences_and_features = df_sentences_and_features.append({'filename': filename, 'sentence': text, 'features': features.squeeze(0).tolist()}, ignore_index=True)\n",
            "<ipython-input-25-2a47d28ebcd7>:41: FutureWarning: The frame.append method is deprecated and will be removed from pandas in a future version. Use pandas.concat instead.\n",
            "  df_sentences_and_features = df_sentences_and_features.append({'filename': filename, 'sentence': text, 'features': features.squeeze(0).tolist()}, ignore_index=True)\n",
            "<ipython-input-25-2a47d28ebcd7>:41: FutureWarning: The frame.append method is deprecated and will be removed from pandas in a future version. Use pandas.concat instead.\n",
            "  df_sentences_and_features = df_sentences_and_features.append({'filename': filename, 'sentence': text, 'features': features.squeeze(0).tolist()}, ignore_index=True)\n",
            "<ipython-input-25-2a47d28ebcd7>:41: FutureWarning: The frame.append method is deprecated and will be removed from pandas in a future version. Use pandas.concat instead.\n",
            "  df_sentences_and_features = df_sentences_and_features.append({'filename': filename, 'sentence': text, 'features': features.squeeze(0).tolist()}, ignore_index=True)\n",
            "<ipython-input-25-2a47d28ebcd7>:41: FutureWarning: The frame.append method is deprecated and will be removed from pandas in a future version. Use pandas.concat instead.\n",
            "  df_sentences_and_features = df_sentences_and_features.append({'filename': filename, 'sentence': text, 'features': features.squeeze(0).tolist()}, ignore_index=True)\n",
            "<ipython-input-25-2a47d28ebcd7>:41: FutureWarning: The frame.append method is deprecated and will be removed from pandas in a future version. Use pandas.concat instead.\n",
            "  df_sentences_and_features = df_sentences_and_features.append({'filename': filename, 'sentence': text, 'features': features.squeeze(0).tolist()}, ignore_index=True)\n",
            "<ipython-input-25-2a47d28ebcd7>:41: FutureWarning: The frame.append method is deprecated and will be removed from pandas in a future version. Use pandas.concat instead.\n",
            "  df_sentences_and_features = df_sentences_and_features.append({'filename': filename, 'sentence': text, 'features': features.squeeze(0).tolist()}, ignore_index=True)\n",
            "<ipython-input-25-2a47d28ebcd7>:41: FutureWarning: The frame.append method is deprecated and will be removed from pandas in a future version. Use pandas.concat instead.\n",
            "  df_sentences_and_features = df_sentences_and_features.append({'filename': filename, 'sentence': text, 'features': features.squeeze(0).tolist()}, ignore_index=True)\n",
            "<ipython-input-25-2a47d28ebcd7>:41: FutureWarning: The frame.append method is deprecated and will be removed from pandas in a future version. Use pandas.concat instead.\n",
            "  df_sentences_and_features = df_sentences_and_features.append({'filename': filename, 'sentence': text, 'features': features.squeeze(0).tolist()}, ignore_index=True)\n",
            "<ipython-input-25-2a47d28ebcd7>:41: FutureWarning: The frame.append method is deprecated and will be removed from pandas in a future version. Use pandas.concat instead.\n",
            "  df_sentences_and_features = df_sentences_and_features.append({'filename': filename, 'sentence': text, 'features': features.squeeze(0).tolist()}, ignore_index=True)\n",
            "<ipython-input-25-2a47d28ebcd7>:41: FutureWarning: The frame.append method is deprecated and will be removed from pandas in a future version. Use pandas.concat instead.\n",
            "  df_sentences_and_features = df_sentences_and_features.append({'filename': filename, 'sentence': text, 'features': features.squeeze(0).tolist()}, ignore_index=True)\n",
            "<ipython-input-25-2a47d28ebcd7>:41: FutureWarning: The frame.append method is deprecated and will be removed from pandas in a future version. Use pandas.concat instead.\n",
            "  df_sentences_and_features = df_sentences_and_features.append({'filename': filename, 'sentence': text, 'features': features.squeeze(0).tolist()}, ignore_index=True)\n",
            "<ipython-input-25-2a47d28ebcd7>:41: FutureWarning: The frame.append method is deprecated and will be removed from pandas in a future version. Use pandas.concat instead.\n",
            "  df_sentences_and_features = df_sentences_and_features.append({'filename': filename, 'sentence': text, 'features': features.squeeze(0).tolist()}, ignore_index=True)\n",
            "<ipython-input-25-2a47d28ebcd7>:41: FutureWarning: The frame.append method is deprecated and will be removed from pandas in a future version. Use pandas.concat instead.\n",
            "  df_sentences_and_features = df_sentences_and_features.append({'filename': filename, 'sentence': text, 'features': features.squeeze(0).tolist()}, ignore_index=True)\n",
            "<ipython-input-25-2a47d28ebcd7>:41: FutureWarning: The frame.append method is deprecated and will be removed from pandas in a future version. Use pandas.concat instead.\n",
            "  df_sentences_and_features = df_sentences_and_features.append({'filename': filename, 'sentence': text, 'features': features.squeeze(0).tolist()}, ignore_index=True)\n",
            "<ipython-input-25-2a47d28ebcd7>:41: FutureWarning: The frame.append method is deprecated and will be removed from pandas in a future version. Use pandas.concat instead.\n",
            "  df_sentences_and_features = df_sentences_and_features.append({'filename': filename, 'sentence': text, 'features': features.squeeze(0).tolist()}, ignore_index=True)\n",
            "<ipython-input-25-2a47d28ebcd7>:41: FutureWarning: The frame.append method is deprecated and will be removed from pandas in a future version. Use pandas.concat instead.\n",
            "  df_sentences_and_features = df_sentences_and_features.append({'filename': filename, 'sentence': text, 'features': features.squeeze(0).tolist()}, ignore_index=True)\n",
            "<ipython-input-25-2a47d28ebcd7>:41: FutureWarning: The frame.append method is deprecated and will be removed from pandas in a future version. Use pandas.concat instead.\n",
            "  df_sentences_and_features = df_sentences_and_features.append({'filename': filename, 'sentence': text, 'features': features.squeeze(0).tolist()}, ignore_index=True)\n",
            "<ipython-input-25-2a47d28ebcd7>:41: FutureWarning: The frame.append method is deprecated and will be removed from pandas in a future version. Use pandas.concat instead.\n",
            "  df_sentences_and_features = df_sentences_and_features.append({'filename': filename, 'sentence': text, 'features': features.squeeze(0).tolist()}, ignore_index=True)\n",
            "<ipython-input-25-2a47d28ebcd7>:41: FutureWarning: The frame.append method is deprecated and will be removed from pandas in a future version. Use pandas.concat instead.\n",
            "  df_sentences_and_features = df_sentences_and_features.append({'filename': filename, 'sentence': text, 'features': features.squeeze(0).tolist()}, ignore_index=True)\n",
            "<ipython-input-25-2a47d28ebcd7>:41: FutureWarning: The frame.append method is deprecated and will be removed from pandas in a future version. Use pandas.concat instead.\n",
            "  df_sentences_and_features = df_sentences_and_features.append({'filename': filename, 'sentence': text, 'features': features.squeeze(0).tolist()}, ignore_index=True)\n",
            "<ipython-input-25-2a47d28ebcd7>:41: FutureWarning: The frame.append method is deprecated and will be removed from pandas in a future version. Use pandas.concat instead.\n",
            "  df_sentences_and_features = df_sentences_and_features.append({'filename': filename, 'sentence': text, 'features': features.squeeze(0).tolist()}, ignore_index=True)\n",
            "<ipython-input-25-2a47d28ebcd7>:41: FutureWarning: The frame.append method is deprecated and will be removed from pandas in a future version. Use pandas.concat instead.\n",
            "  df_sentences_and_features = df_sentences_and_features.append({'filename': filename, 'sentence': text, 'features': features.squeeze(0).tolist()}, ignore_index=True)\n",
            "<ipython-input-25-2a47d28ebcd7>:41: FutureWarning: The frame.append method is deprecated and will be removed from pandas in a future version. Use pandas.concat instead.\n",
            "  df_sentences_and_features = df_sentences_and_features.append({'filename': filename, 'sentence': text, 'features': features.squeeze(0).tolist()}, ignore_index=True)\n",
            "<ipython-input-25-2a47d28ebcd7>:41: FutureWarning: The frame.append method is deprecated and will be removed from pandas in a future version. Use pandas.concat instead.\n",
            "  df_sentences_and_features = df_sentences_and_features.append({'filename': filename, 'sentence': text, 'features': features.squeeze(0).tolist()}, ignore_index=True)\n",
            "<ipython-input-25-2a47d28ebcd7>:41: FutureWarning: The frame.append method is deprecated and will be removed from pandas in a future version. Use pandas.concat instead.\n",
            "  df_sentences_and_features = df_sentences_and_features.append({'filename': filename, 'sentence': text, 'features': features.squeeze(0).tolist()}, ignore_index=True)\n",
            "<ipython-input-25-2a47d28ebcd7>:41: FutureWarning: The frame.append method is deprecated and will be removed from pandas in a future version. Use pandas.concat instead.\n",
            "  df_sentences_and_features = df_sentences_and_features.append({'filename': filename, 'sentence': text, 'features': features.squeeze(0).tolist()}, ignore_index=True)\n",
            "<ipython-input-25-2a47d28ebcd7>:41: FutureWarning: The frame.append method is deprecated and will be removed from pandas in a future version. Use pandas.concat instead.\n",
            "  df_sentences_and_features = df_sentences_and_features.append({'filename': filename, 'sentence': text, 'features': features.squeeze(0).tolist()}, ignore_index=True)\n",
            "<ipython-input-25-2a47d28ebcd7>:41: FutureWarning: The frame.append method is deprecated and will be removed from pandas in a future version. Use pandas.concat instead.\n",
            "  df_sentences_and_features = df_sentences_and_features.append({'filename': filename, 'sentence': text, 'features': features.squeeze(0).tolist()}, ignore_index=True)\n",
            "<ipython-input-25-2a47d28ebcd7>:41: FutureWarning: The frame.append method is deprecated and will be removed from pandas in a future version. Use pandas.concat instead.\n",
            "  df_sentences_and_features = df_sentences_and_features.append({'filename': filename, 'sentence': text, 'features': features.squeeze(0).tolist()}, ignore_index=True)\n",
            "<ipython-input-25-2a47d28ebcd7>:41: FutureWarning: The frame.append method is deprecated and will be removed from pandas in a future version. Use pandas.concat instead.\n",
            "  df_sentences_and_features = df_sentences_and_features.append({'filename': filename, 'sentence': text, 'features': features.squeeze(0).tolist()}, ignore_index=True)\n",
            "<ipython-input-25-2a47d28ebcd7>:41: FutureWarning: The frame.append method is deprecated and will be removed from pandas in a future version. Use pandas.concat instead.\n",
            "  df_sentences_and_features = df_sentences_and_features.append({'filename': filename, 'sentence': text, 'features': features.squeeze(0).tolist()}, ignore_index=True)\n",
            "<ipython-input-25-2a47d28ebcd7>:41: FutureWarning: The frame.append method is deprecated and will be removed from pandas in a future version. Use pandas.concat instead.\n",
            "  df_sentences_and_features = df_sentences_and_features.append({'filename': filename, 'sentence': text, 'features': features.squeeze(0).tolist()}, ignore_index=True)\n",
            "<ipython-input-25-2a47d28ebcd7>:41: FutureWarning: The frame.append method is deprecated and will be removed from pandas in a future version. Use pandas.concat instead.\n",
            "  df_sentences_and_features = df_sentences_and_features.append({'filename': filename, 'sentence': text, 'features': features.squeeze(0).tolist()}, ignore_index=True)\n"
          ]
        }
      ]
    },
    {
      "cell_type": "code",
      "source": [
        "# 加载训练好的模型\n",
        "model = load_model('/content/drive/MyDrive/good and bad/my_trained_model.h5')\n",
        "\n",
        "# 加载之前步骤生成的特征向量文件\n",
        "bert_features_matrix = np.load('/content/drive/MyDrive/good and bad/bert_features_matrix.npy')\n",
        "\n",
        "# 使用模型进行预测\n",
        "predictions = model.predict(bert_features_matrix)\n",
        "\n",
        "# 将预测结果转换为类别标签\n",
        "predicted_labels = np.argmax(predictions, axis=1)\n",
        "\n",
        "# 将类别标签转换回原始标签\n",
        "label_encoder = joblib.load('/content/drive/MyDrive/good and bad/label_encoder.pkl')\n",
        "predicted_classes = label_encoder.inverse_transform(predicted_labels)\n",
        "\n",
        "# 加载之前保存的句子和文件名的DataFrame\n",
        "df_sentences_and_filenames = pd.read_csv('/content/drive/MyDrive/good and bad/filenames_and_features.csv')\n",
        "df_sentences_and_filenames['predicted_level'] = predicted_classes\n",
        "\n",
        "# 创建新的DataFrame，整理文件名、句子和预测评级\n",
        "formatted_data = []\n",
        "current_filename = ''\n",
        "\n",
        "for index, row in df_sentences_and_filenames.iterrows():\n",
        "    if row['filename'] != current_filename:\n",
        "        current_filename = row['filename']\n",
        "        formatted_data.append({'filename': current_filename, 'sentence': '', 'predicted_level': 'Level'})\n",
        "    formatted_data.append({'filename': '', 'sentence': row['sentence'], 'predicted_level': 'Level ' + str(row['predicted_level'])})\n",
        "\n",
        "# 转换为DataFrame\n",
        "df_formatted = pd.DataFrame(formatted_data)\n",
        "\n",
        "# 保存为CSV，包含列名，每行一个句子\n",
        "output_csv_path = '/content/drive/MyDrive/good and bad/formatted_predictions.csv'\n",
        "df_formatted.to_csv(output_csv_path, index=False)\n",
        "\n",
        "print(f\"Formatted predictions saved to: {output_csv_path}\")\n",
        "# 打印预测结果\n",
        "print(predicted_classes)\n"
      ],
      "metadata": {
        "colab": {
          "base_uri": "https://localhost:8080/"
        },
        "id": "74QrCjhd8Ni0",
        "outputId": "8b4199e8-5469-4ce3-a6cb-5c1fdfc7a08c"
      },
      "execution_count": 30,
      "outputs": [
        {
          "output_type": "stream",
          "name": "stdout",
          "text": [
            "4/4 [==============================] - 0s 11ms/step\n",
            "Formatted predictions saved to: /content/drive/MyDrive/good and bad/formatted_predictions.csv\n",
            "['Level 2' 'Level 3' 'Level 3' 'Level 3' 'Level 3' 'Level 3' 'Level 3'\n",
            " 'Level 3' 'Level 3' 'Level 3' 'Level 3' 'Level 3' 'Level 3' 'Level 3'\n",
            " 'Level 3' 'Level 3' 'Level 3' 'Level 3' 'Level 2' 'Level 3' 'Level 3'\n",
            " 'Level 3' 'Level 3' 'Level 3' 'Level 3' 'Level 3' 'Level 3' 'Level 3'\n",
            " 'Level 3' 'Level 3' 'Level 3' 'Level 2' 'Level 3' 'Level 3' 'Level 3'\n",
            " 'Level 3' 'Level 3' 'Level 3' 'Level 3' 'Level 3' 'Level 3' 'Level 3'\n",
            " 'Level 3' 'Level 3' 'Level 3' 'Level 3' 'Level 3' 'Level 3' 'Level 3'\n",
            " 'Level 3' 'Level 3' 'Level 3' 'Level 3' 'Level 3' 'Level 3' 'Level 3'\n",
            " 'Level 3' 'Level 3' 'Level 3' 'Level 3' 'Level 3' 'Level 3' 'Level 3'\n",
            " 'Level 3' 'Level 3' 'Level 3' 'Level 3' 'Level 3' 'Level 3' 'Level 3'\n",
            " 'Level 3' 'Level 3' 'Level 2' 'Level 3' 'Level 3' 'Level 3' 'Level 3'\n",
            " 'Level 3' 'Level 3' 'Level 3' 'Level 3' 'Level 3' 'Level 3' 'Level 3'\n",
            " 'Level 3' 'Level 3' 'Level 3' 'Level 3' 'Level 3' 'Level 3' 'Level 3'\n",
            " 'Level 3' 'Level 3' 'Level 3' 'Level 3' 'Level 3' 'Level 3' 'Level 3'\n",
            " 'Level 3' 'Level 3' 'Level 3' 'Level 3' 'Level 3' 'Level 3' 'Level 3'\n",
            " 'Level 3' 'Level 3' 'Level 3' 'Level 3' 'Level 3' 'Level 3' 'Level 3'\n",
            " 'Level 3' 'Level 3' 'Level 3' 'Level 3' 'Level 3' 'Level 3' 'Level 3']\n"
          ]
        }
      ]
    },
    {
      "cell_type": "markdown",
      "source": [
        "# Step6 - Detect Model Layers"
      ],
      "metadata": {
        "id": "pnGTE7jhhBnc"
      }
    },
    {
      "cell_type": "code",
      "source": [
        "from keras.models import Sequential\n",
        "from keras.layers import Dense\n",
        "\n",
        "# 假设您的模型是一个简单的 Sequential 模型\n",
        "model = Sequential()\n",
        "model.add(Dense(768, input_shape=(768,)))  # 假设您的模型的第一层期望接收形状为 (None, 768) 的输入\n",
        "\n",
        "# 打印模型的结构\n",
        "model.summary()\n",
        "\n",
        "# 打印第一个层的输入形状\n",
        "print(\"Expected input shape of the first layer:\", model.layers[0].input_shape)\n",
        "\n",
        "# 假设您的输入数据是 bert_features_matrix\n",
        "# 检查 bert_features_matrix 的形状\n",
        "print(\"Shape of bert_features_matrix:\", bert_features_matrix.shape)\n"
      ],
      "metadata": {
        "colab": {
          "base_uri": "https://localhost:8080/"
        },
        "id": "ca2KPWrrdblj",
        "outputId": "1f05afbf-df97-4f7b-d865-91148897627f"
      },
      "execution_count": 17,
      "outputs": [
        {
          "output_type": "stream",
          "name": "stdout",
          "text": [
            "Model: \"sequential\"\n",
            "_________________________________________________________________\n",
            " Layer (type)                Output Shape              Param #   \n",
            "=================================================================\n",
            " dense (Dense)               (None, 768)               590592    \n",
            "                                                                 \n",
            "=================================================================\n",
            "Total params: 590592 (2.25 MB)\n",
            "Trainable params: 590592 (2.25 MB)\n",
            "Non-trainable params: 0 (0.00 Byte)\n",
            "_________________________________________________________________\n",
            "Expected input shape of the first layer: (None, 768)\n",
            "Shape of bert_features_matrix: (119, 768)\n"
          ]
        }
      ]
    }
  ]
}